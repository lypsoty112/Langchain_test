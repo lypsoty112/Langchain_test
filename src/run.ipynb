{
 "cells": [
  {
   "cell_type": "markdown",
   "metadata": {},
   "source": [
    "# Run\n",
    "\n",
    "This file will attempt to create a chain that can be given a stock and then use that to find financial and news, after which the results of that output can be used to recommend a buy or sell position.\n"
   ]
  },
  {
   "cell_type": "markdown",
   "metadata": {},
   "source": [
    "```mermaid\n",
    "flowchart TD\n",
    "    A[\"Input: Stock\"]\n",
    "    B[\"Input: Strategy\"]\n",
    "    C[\"Agent\"]\n",
    "    D[\"News\"]\n",
    "    E[\"Financials\"]\n",
    "    F[\"Popular opinion\"]\n",
    "    H[\"LLM\"]\n",
    "    I[\"Output: Recommendation for the strategy\"]\n",
    "    A --> C\n",
    "    C --> D\n",
    "    C --> E\n",
    "    C --> F\n",
    "    D --> |Summarized| H\n",
    "    E --> |Summarized| H\n",
    "    F --> |Summarized| H\n",
    "    B --> H\n",
    "    A --> H\n",
    "    H --> I\n",
    "```\n"
   ]
  },
  {
   "cell_type": "markdown",
   "metadata": {},
   "source": [
    "## Start\n"
   ]
  },
  {
   "cell_type": "code",
   "execution_count": 195,
   "metadata": {},
   "outputs": [
    {
     "data": {
      "text/plain": [
       "True"
      ]
     },
     "execution_count": 195,
     "metadata": {},
     "output_type": "execute_result"
    }
   ],
   "source": [
    "import dotenv\n",
    "import os\n",
    "from langchain_openai import OpenAI\n",
    "\n",
    "dotenv.load_dotenv()\n"
   ]
  },
  {
   "cell_type": "code",
   "execution_count": 196,
   "metadata": {},
   "outputs": [],
   "source": [
    "llm = OpenAI(temperature=0.7)\n",
    "VERBOSE = False\n"
   ]
  },
  {
   "cell_type": "markdown",
   "metadata": {},
   "source": [
    "## Add tools\n"
   ]
  },
  {
   "cell_type": "code",
   "execution_count": 197,
   "metadata": {},
   "outputs": [],
   "source": [
    "from langchain.tools import BaseTool\n",
    "from langchain_community.utilities import GoogleSearchAPIWrapper\n",
    "\n",
    "search = GoogleSearchAPIWrapper()\n",
    "\n",
    "\n",
    "class SearchTool(BaseTool):\n",
    "    name = \"Google Search\"\n",
    "    description = \"Search Google for recent results. Input is a string.\"\n",
    "\n",
    "    def _run(self, query: str):\n",
    "        search = GoogleSearchAPIWrapper()\n",
    "        return search.results(query=query, num_results=5)\n",
    "\n",
    "    def _arun(self, query: str):\n",
    "        raise NotImplementedError\n",
    "\n",
    "\n",
    "tools = [SearchTool()]\n"
   ]
  },
  {
   "cell_type": "code",
   "execution_count": 198,
   "metadata": {},
   "outputs": [],
   "source": [
    "from langchain.agents import create_react_agent, AgentExecutor\n",
    "from langchain import hub\n",
    "\n",
    "\n",
    "prompt = hub.pull(\"hwchase17/react\")\n",
    "\n",
    "searchAgent = create_react_agent(\n",
    "    prompt=prompt,\n",
    "    llm=llm,\n",
    "    tools=tools,\n",
    ")\n",
    "\n",
    "search_executor = AgentExecutor(agent=searchAgent, tools=tools, verbose=VERBOSE)\n"
   ]
  },
  {
   "cell_type": "markdown",
   "metadata": {},
   "source": [
    "## Creating LLMChains\n"
   ]
  },
  {
   "cell_type": "code",
   "execution_count": 199,
   "metadata": {},
   "outputs": [],
   "source": [
    "from langchain_core.prompts import PromptTemplate\n",
    "\n",
    "\n",
    "def search(company: str, search_executor: AgentExecutor) -> dict[str, str]:\n",
    "    templates = {\n",
    "        \"positive_news\": \"Provide an overview of the most recent positive news that might have an impact on the stock price of {company}.\",\n",
    "        \"negative_news\": \"Provide an overview of the most recent negative news that might have an impact on the stock price of {company}.\",\n",
    "        \"financial\": \"Provide an overview of the most recent financial information about {company}.\",\n",
    "        \"general_opinion\": \"Provide an overview of the general opinion investors have about {company}.\",\n",
    "    }\n",
    "\n",
    "    prompts = {}\n",
    "    for key, template in templates.items():\n",
    "        prompts[key] = PromptTemplate.from_template(template)\n",
    "\n",
    "    results = {}\n",
    "    for key, prompt in prompts.items():\n",
    "        results[key] = search_executor.invoke(\n",
    "            input={\"input\": prompt.invoke(input={\"company\": company})}\n",
    "        )[\"output\"]\n",
    "\n",
    "    return results\n",
    "\n",
    "\n",
    "search_results = search(\"Nikola Corporation\", search_executor)\n"
   ]
  },
  {
   "cell_type": "code",
   "execution_count": 200,
   "metadata": {},
   "outputs": [
    {
     "data": {
      "text/plain": [
       "{'positive_news': 'The recent positive news that might have an impact on the stock price of Nikola Corporation is that they have surpassed 200 orders for their hydrogen fuel cell trucks, their stockholder meeting proposal passed, and they are dedicated to advancing innovative zero-emissions truck solutions.',\n",
       " 'negative_news': 'The most recent negative news that may have impacted the stock price of Nikola Corporation includes allegations of fraud, negative earnings reports, and a partnership with Iveco Group that resulted in a negative cash impact. The stock price of Nikola Corporation has also seen significant changes in the past few months, with a decrease of 22.44% year-to-date. It is important to analyze the correlation between negative news and stock price changes when considering investing in this company.',\n",
       " 'financial': 'The most recent financial information about Nikola Corporation can be found in their fourth quarter and full year 2021 and 2022 reports and press releases.',\n",
       " 'general_opinion': \"The general opinion among investors towards Nikola Corporation is mixed, with some investors optimistic about the company's potential while others have concerns about its financials and leadership. The stock performance has been volatile and has declined since its IPO in 2020.\"}"
      ]
     },
     "execution_count": 200,
     "metadata": {},
     "output_type": "execute_result"
    }
   ],
   "source": [
    "search_results"
   ]
  },
  {
   "cell_type": "code",
   "execution_count": 201,
   "metadata": {},
   "outputs": [
    {
     "data": {
      "text/plain": [
       "'The output should be a markdown code snippet formatted in the following schema, including the leading and trailing \"```json\" and \"```\":\\n\\n```json\\n{\\n\\t\"Recommendation\": string  // Is the recommended move a buy, sell or a hold given the provided strategy?\\n\\t\"Reasoning\": string  // Reasoning behind the recommendation and the strategy used.\\n\\t\"Alternate Strategy\": string  // If you think the recommended strategy is not appropriate, provide an alternate strategy.\\n}\\n```'"
      ]
     },
     "execution_count": 201,
     "metadata": {},
     "output_type": "execute_result"
    }
   ],
   "source": [
    "# Use this output to analyze the stock\n",
    "from langchain.output_parsers import ResponseSchema, StructuredOutputParser\n",
    "\n",
    "\n",
    "template = \"\"\"\n",
    "Given the following information about {company}, formulate a buy/sell/hold recommendation for the stock. Add your reasoning for the recommendation. \n",
    "You're allowed to formulate another strategy if you think it's more appropriate.\n",
    "\n",
    "<<STRATEGY>>\n",
    "{strategy}\n",
    "\n",
    "<<INPUT>>\n",
    "{information}\n",
    "\n",
    "<<OUTPUT>>\n",
    "{expected_output}\n",
    "\"\"\"\n",
    "\n",
    "recommendation_schema = ResponseSchema(\n",
    "    name=\"Recommendation\",\n",
    "    description=\"Is the recommended move a buy, sell or a hold given the provided strategy?\",\n",
    ")\n",
    "reasoning_schema = ResponseSchema(\n",
    "    name=\"Reasoning\",\n",
    "    description=\"Reasoning behind the recommendation and the strategy used.\",\n",
    ")\n",
    "\n",
    "alternate_strategy_schema = ResponseSchema(\n",
    "    name=\"Alternate Strategy\",\n",
    "    description=\"If you think the recommended strategy is not appropriate, provide an alternate strategy.\",\n",
    ")\n",
    "\n",
    "\n",
    "output_parser = StructuredOutputParser.from_response_schemas(\n",
    "    [recommendation_schema, reasoning_schema, alternate_strategy_schema]\n",
    ")\n",
    "\n",
    "format_instructions = output_parser.get_format_instructions()\n",
    "\n",
    "prompt = PromptTemplate(\n",
    "    template=template,\n",
    "    input_variables=[\"company\", \"strategy\", \"information\"],\n",
    "    partial_variables={\"expected_output\": format_instructions},\n",
    "    input_types={\n",
    "        \"company\": \"string\",\n",
    "        \"strategy\": \"string\",\n",
    "        \"information\": \"dict[string, string]\",\n",
    "        \"expected_output\": \"string\",\n",
    "    },\n",
    ")\n",
    "\n",
    "format_instructions\n"
   ]
  },
  {
   "cell_type": "code",
   "execution_count": 202,
   "metadata": {},
   "outputs": [
    {
     "data": {
      "text/plain": [
       "{'company': 'Nikola Corporation',\n",
       " 'strategy': \"Buy the stock now and keep it until I have 5% profit, at which point I'll sell my stake.\",\n",
       " 'information': {'positive_news': 'The recent positive news that might have an impact on the stock price of Nikola Corporation is that they have surpassed 200 orders for their hydrogen fuel cell trucks, their stockholder meeting proposal passed, and they are dedicated to advancing innovative zero-emissions truck solutions.',\n",
       "  'negative_news': 'The most recent negative news that may have impacted the stock price of Nikola Corporation includes allegations of fraud, negative earnings reports, and a partnership with Iveco Group that resulted in a negative cash impact. The stock price of Nikola Corporation has also seen significant changes in the past few months, with a decrease of 22.44% year-to-date. It is important to analyze the correlation between negative news and stock price changes when considering investing in this company.',\n",
       "  'financial': 'The most recent financial information about Nikola Corporation can be found in their fourth quarter and full year 2021 and 2022 reports and press releases.',\n",
       "  'general_opinion': \"The general opinion among investors towards Nikola Corporation is mixed, with some investors optimistic about the company's potential while others have concerns about its financials and leadership. The stock performance has been volatile and has declined since its IPO in 2020.\"},\n",
       " 'text': {'Recommendation': 'Hold',\n",
       "  'Reasoning': \"Given the mixed opinions and volatile stock performance of Nikola Corporation, it would be prudent to hold onto the stock and wait for more stability before making any moves. The recent positive news about the company's hydrogen fuel cell truck orders and dedication to zero-emissions solutions may indicate potential for growth in the future, but the negative news and financial concerns should also be taken into consideration. Holding onto the stock allows for more time to gather information and make a more informed decision.\",\n",
       "  'Alternate Strategy': 'Buy and hold the stock for a longer period of time, rather than selling after a 5% profit. This allows for potential growth and a higher return on investment in the future.'}}"
      ]
     },
     "execution_count": 202,
     "metadata": {},
     "output_type": "execute_result"
    }
   ],
   "source": [
    "# Create an LLMChain\n",
    "\n",
    "from langchain.chains import LLMChain\n",
    "\n",
    "chain = LLMChain(llm=llm, prompt=prompt, output_parser=output_parser)\n",
    "\n",
    "chain.invoke(\n",
    "    input={\n",
    "        \"company\": \"Nikola Corporation\",\n",
    "        \"strategy\": \"Buy the stock now and keep it until I have 5% profit, at which point I'll sell my stake.\",\n",
    "        \"information\": search_results,\n",
    "    }\n",
    ")\n"
   ]
  }
 ],
 "metadata": {
  "kernelspec": {
   "display_name": "venv",
   "language": "python",
   "name": "python3"
  },
  "language_info": {
   "codemirror_mode": {
    "name": "ipython",
    "version": 3
   },
   "file_extension": ".py",
   "mimetype": "text/x-python",
   "name": "python",
   "nbconvert_exporter": "python",
   "pygments_lexer": "ipython3",
   "version": "3.12.0"
  }
 },
 "nbformat": 4,
 "nbformat_minor": 2
}
