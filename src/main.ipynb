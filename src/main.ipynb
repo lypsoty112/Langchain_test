{
 "cells": [
  {
   "cell_type": "code",
   "execution_count": 10,
   "metadata": {},
   "outputs": [
    {
     "data": {
      "text/plain": [
       "True"
      ]
     },
     "execution_count": 10,
     "metadata": {},
     "output_type": "execute_result"
    }
   ],
   "source": [
    "import dotenv\n",
    "import os\n",
    "from langchain_openai import OpenAI\n",
    "\n",
    "dotenv.load_dotenv()"
   ]
  },
  {
   "cell_type": "code",
   "execution_count": 11,
   "metadata": {},
   "outputs": [],
   "source": [
    "SECRET_KEY = os.getenv(\"OPENAI_API_KEY\")\n",
    "\n",
    "llm = OpenAI(api_key=SECRET_KEY, temperature=0.7)"
   ]
  },
  {
   "cell_type": "markdown",
   "metadata": {},
   "source": [
    "# First test\n"
   ]
  },
  {
   "cell_type": "code",
   "execution_count": 12,
   "metadata": {},
   "outputs": [
    {
     "data": {
      "text/plain": [
       "\"\\n\\nBased on the latest information, I would recommend a buy for the stock of Apple Inc. (AAPL). My reasoning for this recommendation is as follows:\\n\\n1. Strong Financial Performance: Apple recently reported its Q3 earnings, which exceeded analyst expectations. The company posted revenue of $59.7 billion, an increase of 11% year-over-year, and a net income of $11.25 billion, an increase of 12.9% year-over-year. This strong financial performance indicates that the company is continuing to grow and generate profits, which is a positive sign for investors.\\n\\n2. Diversified Product Portfolio: Apple has a diversified product portfolio, including the iPhone, iPad, Mac, and wearables like the Apple Watch. This diversification reduces the company's reliance on any single product and helps to mitigate risk. Additionally, the company has been expanding into new areas, such as services and streaming, which could drive future growth.\\n\\n3. Upcoming Product Launches: Apple is expected to launch new products in the coming months, including the highly anticipated iPhone 13, which is rumored to have significant upgrades and improvements. This could drive consumer demand and potentially lead to increased sales and revenue for the company.\\n\\n4. Strong Cash Position: Apple has a strong\""
      ]
     },
     "execution_count": 12,
     "metadata": {},
     "output_type": "execute_result"
    }
   ],
   "source": [
    "explanation = llm.invoke(\n",
    "    \"Using the latest information, provide a buy or sell recommendation for the stock of Apple Inc. (AAPL). Add reasoning for your recommendation.\"\n",
    ")\n",
    "explanation\n"
   ]
  },
  {
   "cell_type": "markdown",
   "metadata": {},
   "source": [
    "# Adding a prompt template\n"
   ]
  },
  {
   "cell_type": "code",
   "execution_count": 13,
   "metadata": {},
   "outputs": [
    {
     "data": {
      "text/plain": [
       "'Using the latest information, provide a buy or sell recommendation for the stock of Amazon Inc. (AMZN). Add reasoning for your recommendation.'"
      ]
     },
     "execution_count": 13,
     "metadata": {},
     "output_type": "execute_result"
    }
   ],
   "source": [
    "from langchain_core.prompts import PromptTemplate\n",
    "\n",
    "prompt = PromptTemplate(\n",
    "    input_variables=[\"stock\"],\n",
    "    input_types={\n",
    "        \"stock\": str,\n",
    "    },\n",
    "    template=\"Using the latest information, provide a buy or sell recommendation for the stock of {stock}. Add reasoning for your recommendation.\",\n",
    ")\n",
    "\n",
    "prompt.format(stock=\"Amazon Inc. (AMZN)\")"
   ]
  },
  {
   "cell_type": "markdown",
   "metadata": {},
   "source": [
    "# Making this as a chain\n"
   ]
  },
  {
   "cell_type": "code",
   "execution_count": 14,
   "metadata": {},
   "outputs": [
    {
     "data": {
      "text/plain": [
       "{'stock': 'Amazon Inc. (AMZN)',\n",
       " 'text': \"\\n\\nBased on the latest information, I would recommend a buy for the stock of Amazon Inc. (AMZN).\\n\\nOne of the main reasons for this recommendation is Amazon's strong financial performance. In the second quarter of 2021, Amazon reported net sales of $113.1 billion, which is a 27% increase from the same period last year. The company also saw a significant increase in operating income, which grew by 31% to $7.7 billion.\\n\\nAdditionally, Amazon's Prime membership program continues to be a major source of revenue and customer retention for the company. The company reported that Prime Day, its annual shopping event exclusive to Prime members, was its biggest sales event ever, surpassing sales from Black Friday and Cyber Monday combined.\\n\\nMoreover, Amazon's expansion into new markets, such as healthcare and advertising, provides further growth opportunities for the company. In the healthcare sector, Amazon launched its telehealth service, Amazon Care, which aims to disrupt the traditional healthcare industry. In the advertising industry, Amazon's advertising revenue grew by 87% in the second quarter, highlighting its potential to become a major player in the digital advertising space.\\n\\nFurthermore, Amazon's strong cash position and ability to generate free cash flow gives the company the resources to invest in future growth\"}"
      ]
     },
     "execution_count": 14,
     "metadata": {},
     "output_type": "execute_result"
    }
   ],
   "source": [
    "from langchain.chains import LLMChain\n",
    "\n",
    "chain = LLMChain(llm=llm, prompt=prompt)\n",
    "\n",
    "chain.invoke(input={\"stock\": \"Amazon Inc. (AMZN)\"})"
   ]
  },
  {
   "cell_type": "markdown",
   "metadata": {},
   "source": [
    "# Let's try to add a search function\n"
   ]
  },
  {
   "cell_type": "code",
   "execution_count": 15,
   "metadata": {},
   "outputs": [
    {
     "data": {
      "text/plain": [
       "\"1 Child's First Name. (Type or print). BARACK. CERTIFICATE OF LIVE ... OBAMA, II. Day. 4. 6b. Island. Year. 5b. Hour. 1961 7:24 P.M.. His last name, Obama, was derived from his Luo descent. Apr 2, 2018 ... What's Barack Obama's nickname? · His full name is Barack Hussein Obama II. · I have only heard him called by these\\xa0... First Lady Michelle LaVaughn Robinson Obama is a lawyer, writer, and the wife of the 44th President, Barack Obama. She is the first\\xa0... Dec 19, 2018 ... His full name is Barack Hussein Obama II. Since the “II” is simply because he was named for his father, his last name\\xa0... Barack Hussein Obama II was born August 4, 1961, in Honolulu, Hawaii, to parents Barack H. Obama, Sr., and Stanley Ann Dunham. Jan 19, 2017 ... Hopeful parents named their sons for the first Black president, whose name is a variation of the Hebrew name Baruch\\xa0... When Barack Obama was elected president in 2008, he became the first African American to hold the office. The framers of the\\xa0... Feb 9, 2015 ... Michael Jordan misspelled Barack Obama's first name on 50th-birthday gift ... When Barack Obama turned 50 in 2011, former\\xa0... Early Life and Career. First Lady Michelle Obama. Michelle Robinson Obama was born in DeYoung, Illinois, on January 17,\\xa0...\""
      ]
     },
     "execution_count": 15,
     "metadata": {},
     "output_type": "execute_result"
    }
   ],
   "source": [
    "from langchain.tools import Tool\n",
    "from langchain_community.utilities import GoogleSearchAPIWrapper\n",
    "\n",
    "search = GoogleSearchAPIWrapper()\n",
    "tool = Tool(\n",
    "    name=\"Google Search\",\n",
    "    description=\"Search Google for recent results.\",\n",
    "    func=search.run,\n",
    ")\n",
    "\n",
    "tool.run(\"Obama's first name?\")"
   ]
  },
  {
   "cell_type": "markdown",
   "metadata": {},
   "source": [
    "# Steps for providing a solution\n",
    "\n",
    "1. Ask about the stock and provide context\n",
    "2. Search financial information, news and stock price\n",
    "3. Provide a summary of the stock\n",
    "4. Based on the information, provide a recommendation\n"
   ]
  },
  {
   "cell_type": "code",
   "execution_count": 29,
   "metadata": {},
   "outputs": [
    {
     "data": {
      "text/plain": [
       "PromptTemplate(input_variables=['agent_scratchpad', 'input', 'tool_names', 'tools'], template='Answer the following questions as best you can. You have access to the following tools:\\n\\n{tools}\\n\\nUse the following format:\\n\\nQuestion: the input question you must answer\\nThought: you should always think about what to do\\nAction: the action to take, should be one of [{tool_names}]\\nAction Input: the input to the action\\nObservation: the result of the action\\n... (this Thought/Action/Action Input/Observation can repeat N times)\\nThought: I now know the final answer\\nFinal Answer: the final answer to the original input question\\n\\nBegin!\\n\\nQuestion: {input}\\nThought:{agent_scratchpad}')"
      ]
     },
     "execution_count": 29,
     "metadata": {},
     "output_type": "execute_result"
    }
   ],
   "source": [
    "from langchain import hub\n",
    "from langchain.agents import create_react_agent\n",
    "from langchain.tools import BaseTool\n",
    "\n",
    "llm = OpenAI(api_key=SECRET_KEY, temperature=0.7)\n",
    "\n",
    "\n",
    "class SearchTool(BaseTool):\n",
    "    name = \"Google Search\"\n",
    "    description = \"Search Google for recent results. Input is a string.\"\n",
    "\n",
    "    def _run(self, query: str):\n",
    "        search = GoogleSearchAPIWrapper()\n",
    "        return search.run(query)\n",
    "\n",
    "    def _arun(self, query: str):\n",
    "        raise NotImplementedError\n",
    "\n",
    "\n",
    "tools = [SearchTool()]\n",
    "\n",
    "# Create an agent\n",
    "prompt = hub.pull(\"hwchase17/react\")\n",
    "\n",
    "agent = create_react_agent(llm=llm, prompt=prompt, tools=tools)\n",
    "\n",
    "prompt\n"
   ]
  },
  {
   "cell_type": "code",
   "execution_count": 28,
   "metadata": {},
   "outputs": [
    {
     "name": "stdout",
     "output_type": "stream",
     "text": [
      "\n",
      "\n",
      "\u001b[1m> Entering new AgentExecutor chain...\u001b[0m\n",
      "\u001b[32;1m\u001b[1;3m Search BYD on Google\n",
      "Action: Google Search\n",
      "Action Input: BYD\u001b[0m\u001b[36;1m\u001b[1;3mBYD has developed blade battery, electronic platform 3.0 and dual-mode hybrid technology for electric cars, giving full play to the advantages of ... byd-energy-prod-new. byd-skyrail-prod-new. Rail Transit · SkyRail · SkyShuttle · Batteries · Electronics · SkyRail · SkyShuttle. BYD Europe HQS Scorpius 112, 2132 LR Hoofddorp, Netherlands. BYD Auto ... BYD Auto Co., Ltd. is the automotive subsidiary of BYD Company, a publicly listed Chinese multinational manufacturing company. It manufactures ... The BYD Battery-Box Premium LVL is a lithium iron phosphate (LFP) battery for use with an external inverter. Thanks to its control and communication port (BMU), ... Mar 2, 2023 ... BYD | 225091 followers on LinkedIn. Build Your Dreams. | Established in 1995, BYD is a top high-tech enterprise in China specializing in IT, ... Boyd Gaming (BYD) Expected to Beat Earnings Estimates: Can the Stock Move Higher? Boyd (BYD) possesses the right combination of the two key ingredients for a ... Monocrystalline PV Module · Technical Advantages · Projects · About BYD · Social Responsibility · Friendship links. BYD Group Official Website. Copyright ©1995- ... Boyd showcases the best in hotels, casinos, restaurants, shows, and more at each of its locations nationwide. Experience Life Rewarded and book your next ...\u001b[0m\u001b[32;1m\u001b[1;3mI now know the final answer\n",
      "Final Answer: BYD is a Chinese multinational manufacturing company that specializes in IT, rail transit, electric cars, batteries, electronics, and more. They are known for their advanced technologies and have a presence in various industries worldwide. They also own Boyd Gaming, a company that operates hotels, casinos, and restaurants across the US.\u001b[0m\n",
      "\n",
      "\u001b[1m> Finished chain.\u001b[0m\n"
     ]
    },
    {
     "data": {
      "text/plain": [
       "{'input': 'BYD',\n",
       " 'output': 'BYD is a Chinese multinational manufacturing company that specializes in IT, rail transit, electric cars, batteries, electronics, and more. They are known for their advanced technologies and have a presence in various industries worldwide. They also own Boyd Gaming, a company that operates hotels, casinos, and restaurants across the US.'}"
      ]
     },
     "execution_count": 28,
     "metadata": {},
     "output_type": "execute_result"
    }
   ],
   "source": [
    "from langchain.agents import AgentExecutor\n",
    "\n",
    "executor = AgentExecutor(agent=agent, tools=tools, verbose=True)\n",
    "\n",
    "executor.invoke(input={\"input\": \"BYD\"})\n"
   ]
  }
 ],
 "metadata": {
  "kernelspec": {
   "display_name": "venv",
   "language": "python",
   "name": "python3"
  },
  "language_info": {
   "codemirror_mode": {
    "name": "ipython",
    "version": 3
   },
   "file_extension": ".py",
   "mimetype": "text/x-python",
   "name": "python",
   "nbconvert_exporter": "python",
   "pygments_lexer": "ipython3",
   "version": "3.12.0"
  }
 },
 "nbformat": 4,
 "nbformat_minor": 2
}
