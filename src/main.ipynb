{
 "cells": [
  {
   "cell_type": "code",
   "execution_count": 3,
   "metadata": {},
   "outputs": [
    {
     "data": {
      "text/plain": [
       "True"
      ]
     },
     "execution_count": 3,
     "metadata": {},
     "output_type": "execute_result"
    }
   ],
   "source": [
    "import dotenv\n",
    "import os\n",
    "from langchain_openai import OpenAI\n",
    "\n",
    "dotenv.load_dotenv()"
   ]
  },
  {
   "cell_type": "code",
   "execution_count": 4,
   "metadata": {},
   "outputs": [],
   "source": [
    "SECRET_KEY = os.getenv(\"OPENAI_API_KEY\")\n",
    "\n",
    "llm = OpenAI(api_key=SECRET_KEY, temperature=.7) "
   ]
  },
  {
   "cell_type": "markdown",
   "metadata": {},
   "source": [
    "# First test"
   ]
  },
  {
   "cell_type": "code",
   "execution_count": 5,
   "metadata": {},
   "outputs": [
    {
     "data": {
      "text/plain": [
       "\"\\n\\nBased on the current information, I would recommend a buy for the stock of Apple Inc. (AAPL).\\n\\nFirstly, Apple recently announced its financial results for the first quarter of fiscal year 2021, and the numbers were impressive. The company posted a record-breaking revenue of $111.4 billion, a 21% increase from the same quarter last year. This was driven by strong demand for its iPhone, Mac, and iPad products. In addition, Apple's services segment, which includes the App Store and Apple Music, also saw a 24% growth in revenue.\\n\\nSecondly, Apple has a strong product pipeline for 2021, which includes the highly anticipated launch of the iPhone 12, as well as potential new products such as AirTags and AirPods Pro 2. These new products are expected to drive further revenue growth for the company.\\n\\nMoreover, Apple's financial position remains strong, with a cash balance of over $195 billion and a low debt-to-equity ratio of 1.36. This provides the company with the flexibility to invest in new technologies and innovations, as well as return value to shareholders through dividends and share buybacks.\\n\\nAdditionally, the stock's valuation looks attractive, with a forward price-to-earnings ratio of\""
      ]
     },
     "execution_count": 5,
     "metadata": {},
     "output_type": "execute_result"
    }
   ],
   "source": [
    "explanation = llm.invoke(\"Using the latest information, provide a buy or sell recommendation for the stock of Apple Inc. (AAPL). Add reasoning for your recommendation.\")\n",
    "explanation"
   ]
  },
  {
   "cell_type": "markdown",
   "metadata": {},
   "source": [
    "# Adding a prompt template"
   ]
  },
  {
   "cell_type": "code",
   "execution_count": 6,
   "metadata": {},
   "outputs": [
    {
     "data": {
      "text/plain": [
       "'Using the latest information, provide a buy or sell recommendation for the stock of Amazon Inc. (AMZN). Add reasoning for your recommendation.'"
      ]
     },
     "execution_count": 6,
     "metadata": {},
     "output_type": "execute_result"
    }
   ],
   "source": [
    "from langchain_core.prompts import PromptTemplate\n",
    "\n",
    "prompt = PromptTemplate(\n",
    "\n",
    "    input_variables=[\"stock\"],\n",
    "    input_types={\n",
    "        \"stock\": str,\n",
    "    },\n",
    "    template=\"Using the latest information, provide a buy or sell recommendation for the stock of {stock}. Add reasoning for your recommendation.\",\n",
    ")\n",
    "\n",
    "prompt.format(stock=\"Amazon Inc. (AMZN)\")"
   ]
  },
  {
   "cell_type": "markdown",
   "metadata": {},
   "source": [
    "# Making this as a chain"
   ]
  },
  {
   "cell_type": "code",
   "execution_count": 7,
   "metadata": {},
   "outputs": [
    {
     "data": {
      "text/plain": [
       "{'stock': 'Amazon Inc. (AMZN)',\n",
       " 'text': \"\\n\\nBased on the latest information, I would recommend a buy for the stock of Amazon Inc. (AMZN). Amazon's stock has been performing well recently, with its share price reaching an all-time high of $3,400 in September 2020. This is attributed to the company's strong financial performance, with its third-quarter earnings report showing a 37% increase in net sales compared to the same period last year.\\n\\nAdditionally, Amazon has been able to capitalize on the shift towards e-commerce and online shopping due to the COVID-19 pandemic. The company's Prime membership program has also seen significant growth, with over 150 million subscribers worldwide. This demonstrates the strong customer loyalty and potential for recurring revenue for Amazon.\\n\\nFurthermore, Amazon has been expanding its business beyond e-commerce into other sectors such as cloud computing, advertising, and media streaming. These efforts have been successful, with the company's cloud computing division, Amazon Web Services, reporting a 29% increase in revenue in the third quarter.\\n\\nIn terms of future growth potential, Amazon is continuously investing in new technologies and expanding its operations globally. The company's recent acquisition of self-driving car startup Zoox highlights its commitment to innovation and diversification.\\n\\nIn conclusion, the strong financial performance, increasing market share, and divers\"}"
      ]
     },
     "execution_count": 7,
     "metadata": {},
     "output_type": "execute_result"
    }
   ],
   "source": [
    "from langchain.chains import LLMChain\n",
    "\n",
    "chain = LLMChain(llm=llm, prompt=prompt)\n",
    "\n",
    "chain.invoke(input={\"stock\": \"Amazon Inc. (AMZN)\"})"
   ]
  },
  {
   "cell_type": "markdown",
   "metadata": {},
   "source": [
    "# Let's try to add a search function\n"
   ]
  },
  {
   "cell_type": "code",
   "execution_count": 8,
   "metadata": {},
   "outputs": [
    {
     "data": {
      "text/plain": [
       "\"1 Child's First Name. (Type or print). BARACK. CERTIFICATE OF LIVE BIRTH lb ... OBAMA, II. Day. 4. 6b. Island. Year. 5b. Hour. 1961 7:24 P.M.. Oahu. 6d. Is Place\\xa0... His last name, Obama, was derived from his Luo descent. Obama's parents met in ... First 100 days. Main article: First 100 days of Barack Obama's presidency. Apr 2, 2018 ... What's Barack Obama's nickname? · His full name is Barack Hussein Obama II. · I have only heard him called by these names: · Barack, Mr. Obama,\\xa0... First Lady Michelle LaVaughn Robinson Obama is a lawyer, writer, and the wife of the 44th President, Barack Obama. She is the first African-American First\\xa0... Dec 19, 2018 ... His full name is Barack Hussein Obama II. Since the “II” is simply because he was named for his father, his last name is Obama. Barack Hussein Obama II was born August 4, 1961, in Honolulu, Hawaii, to parents Barack H. Obama, Sr., and Stanley Ann Dunham. His parents divorced when he\\xa0... Jan 19, 2017 ... Hopeful parents named their sons for the first Black president, whose name is a variation of the Hebrew name Baruch, which means “blessed”\\xa0... The Middle East remained a key foreign policy challenge. ... Learn more about Barack Obama's spouse, Michelle Obama. President Barack Obama and First Lady\\xa0... Feb 9, 2015 ... Michael Jordan misspelled Barack Obama's first name on 50th-birthday gift ... When Barack Obama turned 50 in 2011, former adviser David Axelrod\\xa0... Early Life and Career. First Lady Michelle Obama. Michelle Robinson Obama was born in DeYoung, Illinois, on January 17,\\xa0...\""
      ]
     },
     "execution_count": 8,
     "metadata": {},
     "output_type": "execute_result"
    }
   ],
   "source": [
    "from langchain.tools import Tool\n",
    "from langchain_community.utilities import GoogleSearchAPIWrapper\n",
    "\n",
    "search = GoogleSearchAPIWrapper()\n",
    "tool = Tool(\n",
    "    name=\"Google Search\",\n",
    "    description=\"Search Google for recent results.\",\n",
    "    func=search.run,\n",
    ")\n",
    "\n",
    "tool.run(\"Obama's first name?\")"
   ]
  },
  {
   "cell_type": "markdown",
   "metadata": {},
   "source": [
    "# Steps for providing a solution\n",
    "1. Ask about the stock and provide context\n",
    "2. Search financial information, news and stock price\n",
    "3. Provide a summary of the stock\n",
    "4. Based on the information, provide a recommendation"
   ]
  },
  {
   "cell_type": "code",
   "execution_count": 9,
   "metadata": {},
   "outputs": [
    {
     "data": {
      "text/plain": [
       "('Newsroom · Apple Vision Pro arrives in Apple Store locations across the U.S. · Apple reports first quarter results · Apple announces more than 600 new apps built\\xa0... Get the detailed quarterly/annual income statement for Apple Inc. (AAPL). Find out the revenue, expenses and profit or loss over the last fiscal year. Apple Inc. balance sheet, income statement, cash flow, earnings & estimates, ratio and margins. View AAPL financial statements in full. Find the latest Apple Inc. (AAPL) stock quote, history, news and other vital information to help you with your stock trading and investing. Find the latest Apple Inc. Common Stock (AAPL) annual income statements, balance sheets, financial statements, ratios, and cash flow data at Nasdaq.com. Aug 3, 2023 ... The Company posted quarterly revenue of $81.8 billion, down 1 percent year over year, and quarterly earnings per diluted share of $1.26, up 5\\xa0... 4 days ago ... Apple Inc AAPL ; Valuation · Price/Earnings (Normalized). 29.23, 24.39, 36.68 ; Financial Strength · Quick Ratio. 0.92, 1.94, 1.02 ; Profitability\\xa0... Feb 2, 2023 ... Cash, cash equivalents and restricted cash, beginning balances. 24,977. 35,929. Operating activities: Net income. Apple Inc. Annual stock financials by MarketWatch. View the latest AAPL financial statements, income statements and financial ratios. May 4, 2023 ... The Company posted quarterly revenue of $94.8 billion, down 3 percent year over year, and quarterly earnings per diluted share of $1.52,\\xa0...',\n",
       " 'Find the latest Apple Inc. (AAPL) stock quote, history, news and other vital information to help you with your stock trading and investing. Get Apple Inc (AAPL:NASDAQ) real-time stock quotes, news, price and financial information from CNBC. Get the latest Apple Inc. (AAPL) stock news and headlines to help you in your trading and investing decisions. View the latest Apple Inc. (AAPL) stock price, news, historical charts, analyst ratings and financial information from WSJ. Apple announces more than 600 new apps built for Apple Vision Pro. February 1 ... Copyright © 2024 Apple Inc. All rights reserved. Privacy Policy · Terms of Use\\xa0... Discover the innovative world of Apple and shop everything iPhone, iPad, Apple Watch, Mac, and Apple TV, plus explore accessories, entertainment,\\xa0... AAPL | Complete Apple Inc. stock news by MarketWatch. View real-time stock prices and stock quotes for a full financial overview. Stay up-to-date on Apple Inc. Common Stock (AAPL) news with the latest updates, breaking headlines, news articles, and more from around the web at\\xa0... Get the latest news and real-time alerts from Apple Inc. (AAPL) stock at Seeking Alpha. Discover real-time Apple Inc. Common Stock (AAPL) stock prices, quotes, historical data, news, and Insights for informed trading and investment decisions.')"
      ]
     },
     "execution_count": 9,
     "metadata": {},
     "output_type": "execute_result"
    }
   ],
   "source": [
    "from langchain.chains import SequentialChain\n",
    "from langchain.agents import tool, AgentExecutor\n",
    "\n",
    "llm = OpenAI(api_key=SECRET_KEY, temperature=.7)\n",
    "\n",
    "@tool\n",
    "def news_search(stock: str) -> str:\n",
    "    \"\"\"Search Google for recent results about the stock's news.\"\"\"\n",
    "    return search.run(f\"Latest news about {stock}\")\n",
    "\n",
    "@tool\n",
    "def financial_search(stock: str) -> str:\n",
    "    \"\"\"Search Google for recent results about the stock's financials.\"\"\"\n",
    "    return search.run(f\"Latest financials of {stock}\")\n",
    "\n",
    "financial_search.invoke(\"Apple Inc. (AAPL)\"), news_search.invoke(\"Apple Inc. (AAPL)\")\n"
   ]
  },
  {
   "cell_type": "code",
   "execution_count": null,
   "metadata": {},
   "outputs": [],
   "source": []
  }
 ],
 "metadata": {
  "kernelspec": {
   "display_name": "venv",
   "language": "python",
   "name": "python3"
  },
  "language_info": {
   "codemirror_mode": {
    "name": "ipython",
    "version": 3
   },
   "file_extension": ".py",
   "mimetype": "text/x-python",
   "name": "python",
   "nbconvert_exporter": "python",
   "pygments_lexer": "ipython3",
   "version": "3.12.0"
  }
 },
 "nbformat": 4,
 "nbformat_minor": 2
}
