{
 "cells": [
  {
   "cell_type": "markdown",
   "metadata": {},
   "source": [
    "# Chains in LangChain\n",
    "\n",
    "## Outline\n",
    "\n",
    "- LLMChain\n",
    "- Sequential Chains\n",
    "  - SimpleSequentialChain\n",
    "  - SequentialChain\n",
    "- Router Chain\n"
   ]
  },
  {
   "cell_type": "code",
   "execution_count": 1,
   "metadata": {},
   "outputs": [],
   "source": [
    "import warnings\n",
    "import os\n",
    "from dotenv import load_dotenv, find_dotenv\n",
    "\n",
    "_ = load_dotenv(find_dotenv())  # read local .env file\n",
    "warnings.filterwarnings(\"ignore\")"
   ]
  },
  {
   "cell_type": "code",
   "execution_count": 2,
   "metadata": {},
   "outputs": [],
   "source": [
    "# account for deprecation of LLM model\n",
    "import datetime\n",
    "\n",
    "# Get the current date\n",
    "current_date = datetime.datetime.now().date()\n",
    "\n",
    "# Define the date after which the model should be set to \"gpt-3.5-turbo\"\n",
    "target_date = datetime.date(2024, 6, 12)\n",
    "\n",
    "# Set the model variable based on the current date\n",
    "if current_date > target_date:\n",
    "    llm_model = \"gpt-3.5-turbo\"\n",
    "else:\n",
    "    llm_model = \"gpt-3.5-turbo-0301\""
   ]
  },
  {
   "cell_type": "code",
   "execution_count": 3,
   "metadata": {},
   "outputs": [
    {
     "name": "stdout",
     "output_type": "stream",
     "text": [
      "Collecting pandasNote: you may need to restart the kernel to use updated packages.\n"
     ]
    },
    {
     "name": "stderr",
     "output_type": "stream",
     "text": [
      "\n",
      "[notice] A new release of pip is available: 23.2.1 -> 23.3.2\n",
      "[notice] To update, run: python.exe -m pip install --upgrade pip\n"
     ]
    },
    {
     "name": "stdout",
     "output_type": "stream",
     "text": [
      "\n",
      "  Obtaining dependency information for pandas from https://files.pythonhosted.org/packages/87/03/fe50521919aa981f6a1c197037da4623a267b0e5f42246d69ba048e86da3/pandas-2.2.0-cp312-cp312-win_amd64.whl.metadata\n",
      "  Downloading pandas-2.2.0-cp312-cp312-win_amd64.whl.metadata (19 kB)\n",
      "Requirement already satisfied: numpy<2,>=1.26.0 in c:\\users\\maarten boon\\documents\\projects\\langchain_test\\venv\\lib\\site-packages (from pandas) (1.26.3)\n",
      "Requirement already satisfied: python-dateutil>=2.8.2 in c:\\users\\maarten boon\\documents\\projects\\langchain_test\\venv\\lib\\site-packages (from pandas) (2.8.2)\n",
      "Collecting pytz>=2020.1 (from pandas)\n",
      "  Obtaining dependency information for pytz>=2020.1 from https://files.pythonhosted.org/packages/9c/3d/a121f284241f08268b21359bd425f7d4825cffc5ac5cd0e1b3d82ffd2b10/pytz-2024.1-py2.py3-none-any.whl.metadata\n",
      "  Downloading pytz-2024.1-py2.py3-none-any.whl.metadata (22 kB)\n",
      "Collecting tzdata>=2022.7 (from pandas)\n",
      "  Obtaining dependency information for tzdata>=2022.7 from https://files.pythonhosted.org/packages/a3/fb/52b62131e21b24ee297e4e95ed41eba29647dad0e0051a92bb66b43c70ff/tzdata-2023.4-py2.py3-none-any.whl.metadata\n",
      "  Downloading tzdata-2023.4-py2.py3-none-any.whl.metadata (1.4 kB)\n",
      "Requirement already satisfied: six>=1.5 in c:\\users\\maarten boon\\documents\\projects\\langchain_test\\venv\\lib\\site-packages (from python-dateutil>=2.8.2->pandas) (1.16.0)\n",
      "Downloading pandas-2.2.0-cp312-cp312-win_amd64.whl (11.5 MB)\n",
      "   ---------------------------------------- 0.0/11.5 MB ? eta -:--:--\n",
      "   ---------------------------------------- 0.1/11.5 MB ? eta -:--:--\n",
      "    --------------------------------------- 0.2/11.5 MB 2.4 MB/s eta 0:00:05\n",
      "   - -------------------------------------- 0.3/11.5 MB 2.2 MB/s eta 0:00:06\n",
      "   - -------------------------------------- 0.4/11.5 MB 2.8 MB/s eta 0:00:04\n",
      "   -- ------------------------------------- 0.7/11.5 MB 3.0 MB/s eta 0:00:04\n",
      "   -- ------------------------------------- 0.7/11.5 MB 3.1 MB/s eta 0:00:04\n",
      "   -- ------------------------------------- 0.8/11.5 MB 2.5 MB/s eta 0:00:05\n",
      "   --- ------------------------------------ 1.1/11.5 MB 3.0 MB/s eta 0:00:04\n",
      "   ---- ----------------------------------- 1.2/11.5 MB 2.9 MB/s eta 0:00:04\n",
      "   ---- ----------------------------------- 1.3/11.5 MB 3.0 MB/s eta 0:00:04\n",
      "   ----- ---------------------------------- 1.5/11.5 MB 3.0 MB/s eta 0:00:04\n",
      "   ----- ---------------------------------- 1.5/11.5 MB 3.0 MB/s eta 0:00:04\n",
      "   ----- ---------------------------------- 1.6/11.5 MB 2.8 MB/s eta 0:00:04\n",
      "   ----- ---------------------------------- 1.7/11.5 MB 2.8 MB/s eta 0:00:04\n",
      "   ----- ---------------------------------- 1.7/11.5 MB 2.8 MB/s eta 0:00:04\n",
      "   ------ --------------------------------- 1.8/11.5 MB 2.6 MB/s eta 0:00:04\n",
      "   ------ --------------------------------- 2.0/11.5 MB 2.5 MB/s eta 0:00:04\n",
      "   ------- -------------------------------- 2.0/11.5 MB 2.5 MB/s eta 0:00:04\n",
      "   ------- -------------------------------- 2.2/11.5 MB 2.4 MB/s eta 0:00:04\n",
      "   ------- -------------------------------- 2.3/11.5 MB 2.5 MB/s eta 0:00:04\n",
      "   -------- ------------------------------- 2.4/11.5 MB 2.5 MB/s eta 0:00:04\n",
      "   -------- ------------------------------- 2.5/11.5 MB 2.5 MB/s eta 0:00:04\n",
      "   -------- ------------------------------- 2.6/11.5 MB 2.5 MB/s eta 0:00:04\n",
      "   --------- ------------------------------ 2.7/11.5 MB 2.4 MB/s eta 0:00:04\n",
      "   --------- ------------------------------ 2.8/11.5 MB 2.4 MB/s eta 0:00:04\n",
      "   --------- ------------------------------ 2.8/11.5 MB 2.4 MB/s eta 0:00:04\n",
      "   ---------- ----------------------------- 2.9/11.5 MB 2.4 MB/s eta 0:00:04\n",
      "   ---------- ----------------------------- 2.9/11.5 MB 2.4 MB/s eta 0:00:04\n",
      "   ---------- ----------------------------- 3.0/11.5 MB 2.3 MB/s eta 0:00:04\n",
      "   ---------- ----------------------------- 3.1/11.5 MB 2.3 MB/s eta 0:00:04\n",
      "   ----------- ---------------------------- 3.2/11.5 MB 2.3 MB/s eta 0:00:04\n",
      "   ----------- ---------------------------- 3.3/11.5 MB 2.2 MB/s eta 0:00:04\n",
      "   ----------- ---------------------------- 3.4/11.5 MB 2.2 MB/s eta 0:00:04\n",
      "   ----------- ---------------------------- 3.4/11.5 MB 2.2 MB/s eta 0:00:04\n",
      "   ------------ --------------------------- 3.5/11.5 MB 2.2 MB/s eta 0:00:04\n",
      "   ------------ --------------------------- 3.6/11.5 MB 2.2 MB/s eta 0:00:04\n",
      "   ------------ --------------------------- 3.6/11.5 MB 2.2 MB/s eta 0:00:04\n",
      "   ------------ --------------------------- 3.6/11.5 MB 2.1 MB/s eta 0:00:04\n",
      "   ------------ --------------------------- 3.7/11.5 MB 2.1 MB/s eta 0:00:04\n",
      "   ------------- -------------------------- 3.8/11.5 MB 2.0 MB/s eta 0:00:04\n",
      "   ------------- -------------------------- 3.8/11.5 MB 2.0 MB/s eta 0:00:04\n",
      "   ------------- -------------------------- 3.8/11.5 MB 2.0 MB/s eta 0:00:04\n",
      "   ------------- -------------------------- 3.9/11.5 MB 2.0 MB/s eta 0:00:04\n",
      "   ------------- -------------------------- 3.9/11.5 MB 1.9 MB/s eta 0:00:04\n",
      "   ------------- -------------------------- 4.0/11.5 MB 1.9 MB/s eta 0:00:04\n",
      "   -------------- ------------------------- 4.0/11.5 MB 1.9 MB/s eta 0:00:04\n",
      "   -------------- ------------------------- 4.1/11.5 MB 1.9 MB/s eta 0:00:04\n",
      "   -------------- ------------------------- 4.1/11.5 MB 1.9 MB/s eta 0:00:04\n",
      "   -------------- ------------------------- 4.2/11.5 MB 1.8 MB/s eta 0:00:04\n",
      "   -------------- ------------------------- 4.2/11.5 MB 1.8 MB/s eta 0:00:05\n",
      "   -------------- ------------------------- 4.2/11.5 MB 1.8 MB/s eta 0:00:05\n",
      "   -------------- ------------------------- 4.3/11.5 MB 1.8 MB/s eta 0:00:05\n",
      "   --------------- ------------------------ 4.3/11.5 MB 1.8 MB/s eta 0:00:05\n",
      "   --------------- ------------------------ 4.4/11.5 MB 1.8 MB/s eta 0:00:05\n",
      "   --------------- ------------------------ 4.4/11.5 MB 1.7 MB/s eta 0:00:05\n",
      "   --------------- ------------------------ 4.5/11.5 MB 1.7 MB/s eta 0:00:05\n",
      "   --------------- ------------------------ 4.5/11.5 MB 1.7 MB/s eta 0:00:05\n",
      "   --------------- ------------------------ 4.5/11.5 MB 1.7 MB/s eta 0:00:05\n",
      "   --------------- ------------------------ 4.5/11.5 MB 1.7 MB/s eta 0:00:05\n",
      "   --------------- ------------------------ 4.6/11.5 MB 1.6 MB/s eta 0:00:05\n",
      "   ---------------- ----------------------- 4.6/11.5 MB 1.6 MB/s eta 0:00:05\n",
      "   ---------------- ----------------------- 4.6/11.5 MB 1.6 MB/s eta 0:00:05\n",
      "   ---------------- ----------------------- 4.7/11.5 MB 1.6 MB/s eta 0:00:05\n",
      "   ---------------- ----------------------- 4.7/11.5 MB 1.6 MB/s eta 0:00:05\n",
      "   ---------------- ----------------------- 4.7/11.5 MB 1.6 MB/s eta 0:00:05\n",
      "   ---------------- ----------------------- 4.8/11.5 MB 1.6 MB/s eta 0:00:05\n",
      "   ---------------- ----------------------- 4.8/11.5 MB 1.6 MB/s eta 0:00:05\n",
      "   ----------------- ---------------------- 4.9/11.5 MB 1.6 MB/s eta 0:00:05\n",
      "   ----------------- ---------------------- 4.9/11.5 MB 1.5 MB/s eta 0:00:05\n",
      "   ----------------- ---------------------- 4.9/11.5 MB 1.5 MB/s eta 0:00:05\n",
      "   ----------------- ---------------------- 5.0/11.5 MB 1.5 MB/s eta 0:00:05\n",
      "   ----------------- ---------------------- 5.0/11.5 MB 1.5 MB/s eta 0:00:05\n",
      "   ----------------- ---------------------- 5.1/11.5 MB 1.5 MB/s eta 0:00:05\n",
      "   ----------------- ---------------------- 5.1/11.5 MB 1.5 MB/s eta 0:00:05\n",
      "   ------------------ --------------------- 5.2/11.5 MB 1.5 MB/s eta 0:00:05\n",
      "   ------------------ --------------------- 5.2/11.5 MB 1.5 MB/s eta 0:00:05\n",
      "   ------------------ --------------------- 5.2/11.5 MB 1.5 MB/s eta 0:00:05\n",
      "   ------------------ --------------------- 5.3/11.5 MB 1.5 MB/s eta 0:00:05\n",
      "   ------------------ --------------------- 5.3/11.5 MB 1.5 MB/s eta 0:00:05\n",
      "   ------------------ --------------------- 5.4/11.5 MB 1.5 MB/s eta 0:00:05\n",
      "   ------------------ --------------------- 5.4/11.5 MB 1.5 MB/s eta 0:00:05\n",
      "   ------------------ --------------------- 5.4/11.5 MB 1.5 MB/s eta 0:00:05\n",
      "   ------------------ --------------------- 5.4/11.5 MB 1.5 MB/s eta 0:00:05\n",
      "   ------------------- -------------------- 5.5/11.5 MB 1.4 MB/s eta 0:00:05\n",
      "   ------------------- -------------------- 5.5/11.5 MB 1.4 MB/s eta 0:00:05\n",
      "   ------------------- -------------------- 5.5/11.5 MB 1.4 MB/s eta 0:00:05\n",
      "   ------------------- -------------------- 5.5/11.5 MB 1.4 MB/s eta 0:00:05\n",
      "   ------------------- -------------------- 5.6/11.5 MB 1.4 MB/s eta 0:00:05\n",
      "   ------------------- -------------------- 5.6/11.5 MB 1.4 MB/s eta 0:00:05\n",
      "   ------------------- -------------------- 5.7/11.5 MB 1.4 MB/s eta 0:00:05\n",
      "   -------------------- ------------------- 5.7/11.5 MB 1.4 MB/s eta 0:00:05\n",
      "   -------------------- ------------------- 5.8/11.5 MB 1.4 MB/s eta 0:00:05\n",
      "   -------------------- ------------------- 5.8/11.5 MB 1.4 MB/s eta 0:00:05\n",
      "   -------------------- ------------------- 5.9/11.5 MB 1.4 MB/s eta 0:00:05\n",
      "   -------------------- ------------------- 5.9/11.5 MB 1.4 MB/s eta 0:00:05\n",
      "   -------------------- ------------------- 6.0/11.5 MB 1.4 MB/s eta 0:00:05\n",
      "   --------------------- ------------------ 6.1/11.5 MB 1.4 MB/s eta 0:00:05\n",
      "   --------------------- ------------------ 6.1/11.5 MB 1.3 MB/s eta 0:00:04\n",
      "   --------------------- ------------------ 6.1/11.5 MB 1.3 MB/s eta 0:00:04\n",
      "   --------------------- ------------------ 6.2/11.5 MB 1.3 MB/s eta 0:00:04\n",
      "   --------------------- ------------------ 6.2/11.5 MB 1.3 MB/s eta 0:00:04\n",
      "   ---------------------- ----------------- 6.3/11.5 MB 1.3 MB/s eta 0:00:04\n",
      "   ---------------------- ----------------- 6.4/11.5 MB 1.3 MB/s eta 0:00:04\n",
      "   ---------------------- ----------------- 6.4/11.5 MB 1.3 MB/s eta 0:00:04\n",
      "   ---------------------- ----------------- 6.5/11.5 MB 1.3 MB/s eta 0:00:04\n",
      "   ---------------------- ----------------- 6.5/11.5 MB 1.3 MB/s eta 0:00:04\n",
      "   ----------------------- ---------------- 6.6/11.5 MB 1.3 MB/s eta 0:00:04\n",
      "   ----------------------- ---------------- 6.7/11.5 MB 1.3 MB/s eta 0:00:04\n",
      "   ----------------------- ---------------- 6.7/11.5 MB 1.3 MB/s eta 0:00:04\n",
      "   ----------------------- ---------------- 6.8/11.5 MB 1.3 MB/s eta 0:00:04\n",
      "   ----------------------- ---------------- 6.8/11.5 MB 1.3 MB/s eta 0:00:04\n",
      "   ------------------------ --------------- 6.9/11.5 MB 1.3 MB/s eta 0:00:04\n",
      "   ------------------------ --------------- 6.9/11.5 MB 1.3 MB/s eta 0:00:04\n",
      "   ------------------------ --------------- 7.0/11.5 MB 1.3 MB/s eta 0:00:04\n",
      "   ------------------------ --------------- 7.0/11.5 MB 1.3 MB/s eta 0:00:04\n",
      "   ------------------------ --------------- 7.0/11.5 MB 1.3 MB/s eta 0:00:04\n",
      "   ------------------------ --------------- 7.1/11.5 MB 1.3 MB/s eta 0:00:04\n",
      "   ------------------------ --------------- 7.1/11.5 MB 1.3 MB/s eta 0:00:04\n",
      "   ------------------------- -------------- 7.2/11.5 MB 1.3 MB/s eta 0:00:04\n",
      "   ------------------------- -------------- 7.3/11.5 MB 1.3 MB/s eta 0:00:04\n",
      "   ------------------------- -------------- 7.3/11.5 MB 1.3 MB/s eta 0:00:04\n",
      "   ------------------------- -------------- 7.4/11.5 MB 1.3 MB/s eta 0:00:04\n",
      "   ------------------------- -------------- 7.4/11.5 MB 1.3 MB/s eta 0:00:04\n",
      "   ------------------------- -------------- 7.4/11.5 MB 1.3 MB/s eta 0:00:04\n",
      "   -------------------------- ------------- 7.5/11.5 MB 1.3 MB/s eta 0:00:04\n",
      "   -------------------------- ------------- 7.5/11.5 MB 1.3 MB/s eta 0:00:04\n",
      "   -------------------------- ------------- 7.6/11.5 MB 1.3 MB/s eta 0:00:03\n",
      "   -------------------------- ------------- 7.6/11.5 MB 1.3 MB/s eta 0:00:03\n",
      "   -------------------------- ------------- 7.7/11.5 MB 1.3 MB/s eta 0:00:03\n",
      "   --------------------------- ------------ 7.8/11.5 MB 1.3 MB/s eta 0:00:03\n",
      "   --------------------------- ------------ 7.8/11.5 MB 1.3 MB/s eta 0:00:03\n",
      "   --------------------------- ------------ 7.8/11.5 MB 1.3 MB/s eta 0:00:03\n",
      "   --------------------------- ------------ 7.9/11.5 MB 1.3 MB/s eta 0:00:03\n",
      "   --------------------------- ------------ 7.9/11.5 MB 1.3 MB/s eta 0:00:03\n",
      "   --------------------------- ------------ 8.0/11.5 MB 1.3 MB/s eta 0:00:03\n",
      "   ---------------------------- ----------- 8.0/11.5 MB 1.3 MB/s eta 0:00:03\n",
      "   ---------------------------- ----------- 8.1/11.5 MB 1.3 MB/s eta 0:00:03\n",
      "   ---------------------------- ----------- 8.2/11.5 MB 1.3 MB/s eta 0:00:03\n",
      "   ---------------------------- ----------- 8.2/11.5 MB 1.3 MB/s eta 0:00:03\n",
      "   ---------------------------- ----------- 8.3/11.5 MB 1.3 MB/s eta 0:00:03\n",
      "   ----------------------------- ---------- 8.3/11.5 MB 1.3 MB/s eta 0:00:03\n",
      "   ----------------------------- ---------- 8.4/11.5 MB 1.3 MB/s eta 0:00:03\n",
      "   ----------------------------- ---------- 8.5/11.5 MB 1.3 MB/s eta 0:00:03\n",
      "   ----------------------------- ---------- 8.6/11.5 MB 1.3 MB/s eta 0:00:03\n",
      "   ------------------------------ --------- 8.6/11.5 MB 1.3 MB/s eta 0:00:03\n",
      "   ------------------------------ --------- 8.7/11.5 MB 1.3 MB/s eta 0:00:03\n",
      "   ------------------------------ --------- 8.7/11.5 MB 1.3 MB/s eta 0:00:03\n",
      "   ------------------------------ --------- 8.7/11.5 MB 1.3 MB/s eta 0:00:03\n",
      "   ------------------------------ --------- 8.8/11.5 MB 1.3 MB/s eta 0:00:03\n",
      "   ------------------------------ --------- 8.9/11.5 MB 1.3 MB/s eta 0:00:03\n",
      "   ------------------------------ --------- 8.9/11.5 MB 1.3 MB/s eta 0:00:03\n",
      "   ------------------------------- -------- 8.9/11.5 MB 1.3 MB/s eta 0:00:02\n",
      "   ------------------------------- -------- 9.0/11.5 MB 1.3 MB/s eta 0:00:02\n",
      "   ------------------------------- -------- 9.0/11.5 MB 1.3 MB/s eta 0:00:02\n",
      "   ------------------------------- -------- 9.1/11.5 MB 1.3 MB/s eta 0:00:02\n",
      "   ------------------------------- -------- 9.1/11.5 MB 1.3 MB/s eta 0:00:02\n",
      "   -------------------------------- ------- 9.2/11.5 MB 1.3 MB/s eta 0:00:02\n",
      "   -------------------------------- ------- 9.2/11.5 MB 1.3 MB/s eta 0:00:02\n",
      "   -------------------------------- ------- 9.3/11.5 MB 1.3 MB/s eta 0:00:02\n",
      "   -------------------------------- ------- 9.3/11.5 MB 1.3 MB/s eta 0:00:02\n",
      "   -------------------------------- ------- 9.3/11.5 MB 1.3 MB/s eta 0:00:02\n",
      "   -------------------------------- ------- 9.4/11.5 MB 1.3 MB/s eta 0:00:02\n",
      "   -------------------------------- ------- 9.4/11.5 MB 1.3 MB/s eta 0:00:02\n",
      "   --------------------------------- ------ 9.5/11.5 MB 1.3 MB/s eta 0:00:02\n",
      "   --------------------------------- ------ 9.5/11.5 MB 1.2 MB/s eta 0:00:02\n",
      "   --------------------------------- ------ 9.6/11.5 MB 1.3 MB/s eta 0:00:02\n",
      "   --------------------------------- ------ 9.6/11.5 MB 1.2 MB/s eta 0:00:02\n",
      "   --------------------------------- ------ 9.6/11.5 MB 1.2 MB/s eta 0:00:02\n",
      "   --------------------------------- ------ 9.7/11.5 MB 1.2 MB/s eta 0:00:02\n",
      "   --------------------------------- ------ 9.7/11.5 MB 1.2 MB/s eta 0:00:02\n",
      "   ---------------------------------- ----- 9.8/11.5 MB 1.2 MB/s eta 0:00:02\n",
      "   ---------------------------------- ----- 9.8/11.5 MB 1.2 MB/s eta 0:00:02\n",
      "   ---------------------------------- ----- 9.8/11.5 MB 1.2 MB/s eta 0:00:02\n",
      "   ---------------------------------- ----- 9.8/11.5 MB 1.2 MB/s eta 0:00:02\n",
      "   ---------------------------------- ----- 9.9/11.5 MB 1.2 MB/s eta 0:00:02\n",
      "   ---------------------------------- ----- 9.9/11.5 MB 1.2 MB/s eta 0:00:02\n",
      "   ---------------------------------- ----- 10.0/11.5 MB 1.2 MB/s eta 0:00:02\n",
      "   ---------------------------------- ----- 10.0/11.5 MB 1.2 MB/s eta 0:00:02\n",
      "   ----------------------------------- ---- 10.1/11.5 MB 1.2 MB/s eta 0:00:02\n",
      "   ----------------------------------- ---- 10.1/11.5 MB 1.2 MB/s eta 0:00:02\n",
      "   ----------------------------------- ---- 10.2/11.5 MB 1.2 MB/s eta 0:00:02\n",
      "   ----------------------------------- ---- 10.2/11.5 MB 1.2 MB/s eta 0:00:02\n",
      "   ----------------------------------- ---- 10.3/11.5 MB 1.2 MB/s eta 0:00:01\n",
      "   ------------------------------------ --- 10.3/11.5 MB 1.2 MB/s eta 0:00:01\n",
      "   ------------------------------------ --- 10.4/11.5 MB 1.2 MB/s eta 0:00:01\n",
      "   ------------------------------------ --- 10.4/11.5 MB 1.2 MB/s eta 0:00:01\n",
      "   ------------------------------------ --- 10.5/11.5 MB 1.2 MB/s eta 0:00:01\n",
      "   ------------------------------------ --- 10.5/11.5 MB 1.2 MB/s eta 0:00:01\n",
      "   ------------------------------------ --- 10.6/11.5 MB 1.2 MB/s eta 0:00:01\n",
      "   ------------------------------------- -- 10.6/11.5 MB 1.2 MB/s eta 0:00:01\n",
      "   ------------------------------------- -- 10.7/11.5 MB 1.2 MB/s eta 0:00:01\n",
      "   ------------------------------------- -- 10.8/11.5 MB 1.2 MB/s eta 0:00:01\n",
      "   ------------------------------------- -- 10.8/11.5 MB 1.2 MB/s eta 0:00:01\n",
      "   -------------------------------------- - 10.9/11.5 MB 1.2 MB/s eta 0:00:01\n",
      "   -------------------------------------- - 11.0/11.5 MB 1.2 MB/s eta 0:00:01\n",
      "   -------------------------------------- - 11.0/11.5 MB 1.2 MB/s eta 0:00:01\n",
      "   -------------------------------------- - 11.1/11.5 MB 1.2 MB/s eta 0:00:01\n",
      "   ---------------------------------------  11.2/11.5 MB 1.2 MB/s eta 0:00:01\n",
      "   ---------------------------------------  11.3/11.5 MB 1.2 MB/s eta 0:00:01\n",
      "   ---------------------------------------  11.3/11.5 MB 1.2 MB/s eta 0:00:01\n",
      "   ---------------------------------------  11.4/11.5 MB 1.2 MB/s eta 0:00:01\n",
      "   ---------------------------------------  11.4/11.5 MB 1.1 MB/s eta 0:00:01\n",
      "   ---------------------------------------  11.5/11.5 MB 1.1 MB/s eta 0:00:01\n",
      "   ---------------------------------------- 11.5/11.5 MB 1.1 MB/s eta 0:00:00\n",
      "Downloading pytz-2024.1-py2.py3-none-any.whl (505 kB)\n",
      "   ---------------------------------------- 0.0/505.5 kB ? eta -:--:--\n",
      "   -------- ------------------------------- 112.6/505.5 kB 3.3 MB/s eta 0:00:01\n",
      "   ------------- -------------------------- 174.1/505.5 kB 2.1 MB/s eta 0:00:01\n",
      "   ------------------ --------------------- 235.5/505.5 kB 1.8 MB/s eta 0:00:01\n",
      "   ------------------------ --------------- 307.2/505.5 kB 1.9 MB/s eta 0:00:01\n",
      "   ------------------------------ --------- 389.1/505.5 kB 1.7 MB/s eta 0:00:01\n",
      "   -------------------------------------- - 481.3/505.5 kB 1.8 MB/s eta 0:00:01\n",
      "   -------------------------------------- - 481.3/505.5 kB 1.8 MB/s eta 0:00:01\n",
      "   -------------------------------------- - 481.3/505.5 kB 1.8 MB/s eta 0:00:01\n",
      "   ---------------------------------------- 505.5/505.5 kB 1.3 MB/s eta 0:00:00\n",
      "Downloading tzdata-2023.4-py2.py3-none-any.whl (346 kB)\n",
      "   ---------------------------------------- 0.0/346.6 kB ? eta -:--:--\n",
      "   ------- -------------------------------- 61.4/346.6 kB 1.6 MB/s eta 0:00:01\n",
      "   ---------- ----------------------------- 92.2/346.6 kB 1.3 MB/s eta 0:00:01\n",
      "   ----------------- ---------------------- 153.6/346.6 kB 1.0 MB/s eta 0:00:01\n",
      "   ----------------------- ---------------- 204.8/346.6 kB 1.1 MB/s eta 0:00:01\n",
      "   ------------------------------- -------- 276.5/346.6 kB 1.2 MB/s eta 0:00:01\n",
      "   ---------------------------------------  337.9/346.6 kB 1.2 MB/s eta 0:00:01\n",
      "   ---------------------------------------- 346.6/346.6 kB 1.2 MB/s eta 0:00:00\n",
      "Installing collected packages: pytz, tzdata, pandas\n",
      "Successfully installed pandas-2.2.0 pytz-2024.1 tzdata-2023.4\n"
     ]
    }
   ],
   "source": [
    "%pip install pandas"
   ]
  },
  {
   "cell_type": "markdown",
   "metadata": {},
   "source": [
    "## LLMChain\n"
   ]
  },
  {
   "cell_type": "code",
   "execution_count": 13,
   "metadata": {},
   "outputs": [
    {
     "data": {
      "text/plain": [
       "{'product': 'Queen Size Sheet Set', 'text': '\"Royal Bedding Co.\"'}"
      ]
     },
     "execution_count": 13,
     "metadata": {},
     "output_type": "execute_result"
    }
   ],
   "source": [
    "from langchain_openai import ChatOpenAI\n",
    "from langchain.prompts import ChatPromptTemplate\n",
    "from langchain.chains import LLMChain\n",
    "\n",
    "llm = ChatOpenAI(temperature=0.9, model=llm_model)\n",
    "prompt = ChatPromptTemplate.from_template(\n",
    "    \"What is the best name to describe \\\n",
    "    a company that makes {product}?\"\n",
    ")\n",
    "\n",
    "chain = LLMChain(llm=llm, prompt=prompt)\n",
    "product = \"Queen Size Sheet Set\"\n",
    "chain.invoke(product)"
   ]
  },
  {
   "cell_type": "markdown",
   "metadata": {},
   "source": [
    "## SimpleSequentialChain\n"
   ]
  },
  {
   "cell_type": "code",
   "execution_count": 14,
   "metadata": {},
   "outputs": [],
   "source": [
    "from langchain.chains import SimpleSequentialChain\n",
    "\n",
    "llm = ChatOpenAI(temperature=0.9, model=llm_model)\n",
    "\n",
    "# prompt template 1\n",
    "first_prompt = ChatPromptTemplate.from_template(\n",
    "    \"What is the best name to describe \\\n",
    "    a company that makes {product}?\"\n",
    ")\n",
    "\n",
    "# Chain 1\n",
    "chain_one = LLMChain(llm=llm, prompt=first_prompt)"
   ]
  },
  {
   "cell_type": "code",
   "execution_count": 15,
   "metadata": {},
   "outputs": [],
   "source": [
    "# prompt template 2\n",
    "second_prompt = ChatPromptTemplate.from_template(\n",
    "    \"Write a 20 words description for the following \\\n",
    "    company:{company_name}\"\n",
    ")\n",
    "# chain 2\n",
    "chain_two = LLMChain(llm=llm, prompt=second_prompt)"
   ]
  },
  {
   "cell_type": "code",
   "execution_count": 16,
   "metadata": {},
   "outputs": [
    {
     "name": "stdout",
     "output_type": "stream",
     "text": [
      "\n",
      "\n",
      "\u001b[1m> Entering new SimpleSequentialChain chain...\u001b[0m\n",
      "\u001b[36;1m\u001b[1;3mRoyal Bedding Company\u001b[0m\n",
      "\u001b[33;1m\u001b[1;3mRoyal Bedding Company is a luxury bedding and mattress manufacturer that provides premium quality products designed for deep rest and relaxation.\u001b[0m\n",
      "\n",
      "\u001b[1m> Finished chain.\u001b[0m\n"
     ]
    },
    {
     "data": {
      "text/plain": [
       "{'input': 'Queen Size Sheet Set',\n",
       " 'output': 'Royal Bedding Company is a luxury bedding and mattress manufacturer that provides premium quality products designed for deep rest and relaxation.'}"
      ]
     },
     "execution_count": 16,
     "metadata": {},
     "output_type": "execute_result"
    }
   ],
   "source": [
    "overall_simple_chain = SimpleSequentialChain(\n",
    "    chains=[chain_one, chain_two], verbose=True\n",
    ")\n",
    "overall_simple_chain.invoke(product)"
   ]
  },
  {
   "cell_type": "markdown",
   "metadata": {},
   "source": [
    "## SequentialChain\n"
   ]
  },
  {
   "cell_type": "code",
   "execution_count": 21,
   "metadata": {},
   "outputs": [
    {
     "name": "stdout",
     "output_type": "stream",
     "text": [
      "\n",
      "\n",
      "\u001b[1m> Entering new SequentialChain chain...\u001b[0m\n",
      "\n",
      "\u001b[1m> Finished chain.\u001b[0m\n"
     ]
    },
    {
     "data": {
      "text/plain": [
       "{'Review': 'I love this product. It is the best product I have ever used.',\n",
       " 'English_Review': \"J'aime ce produit. C'est le meilleur produit que j'ai jamais utilisé.\",\n",
       " 'summary': \"I love this product, it's the best one I've ever used.\",\n",
       " 'followup_message': \"Thank you for sharing your positive experience with this product. It's always great to hear when someone finds something that they truly love and believe works well for them. Have a great day!\",\n",
       " 'language': 'English.'}"
      ]
     },
     "execution_count": 21,
     "metadata": {},
     "output_type": "execute_result"
    }
   ],
   "source": [
    "from langchain.chains import SequentialChain\n",
    "\n",
    "llm = ChatOpenAI(temperature=0.9, model=llm_model)\n",
    "\n",
    "# prompt template 1: translate to english\n",
    "first_prompt = ChatPromptTemplate.from_template(\n",
    "    \"Translate the following review to english:\" \"\\n\\n{Review}\"\n",
    ")\n",
    "# chain 1: input= Review and output= English_Review\n",
    "chain_one = LLMChain(llm=llm, prompt=first_prompt, output_key=\"English_Review\")\n",
    "\n",
    "second_prompt = ChatPromptTemplate.from_template(\n",
    "    \"Can you summarize the following review in 1 sentence:\" \"\\n\\n{English_Review}\"\n",
    ")\n",
    "# chain 2: input= English_Review and output= summary\n",
    "chain_two = LLMChain(llm=llm, prompt=second_prompt, output_key=\"summary\")\n",
    "\n",
    "# prompt template 3: translate to english\n",
    "third_prompt = ChatPromptTemplate.from_template(\n",
    "    \"What language is the following review:\\n\\n{Review}\"\n",
    ")\n",
    "# chain 3: input= Review and output= language\n",
    "chain_three = LLMChain(llm=llm, prompt=third_prompt, output_key=\"language\")\n",
    "\n",
    "\n",
    "# prompt template 4: follow up message\n",
    "fourth_prompt = ChatPromptTemplate.from_template(\n",
    "    \"Write a follow up response to the following \"\n",
    "    \"summary in the specified language:\"\n",
    "    \"\\n\\nSummary: {summary}\\n\\nLanguage: {language}\"\n",
    ")\n",
    "# chain 4: input= summary, language and output= followup_message\n",
    "chain_four = LLMChain(llm=llm, prompt=fourth_prompt, output_key=\"followup_message\")\n",
    "\n",
    "# overall_chain: input= Review\n",
    "# and output= English_Review,summary, followup_message\n",
    "overall_chain = SequentialChain(\n",
    "    chains=[chain_one, chain_two, chain_three, chain_four],\n",
    "    input_variables=[\"Review\"],\n",
    "    output_variables=[\n",
    "        \"English_Review\",\n",
    "        \"summary\",\n",
    "        \"followup_message\",\n",
    "        \"language\",\n",
    "    ],\n",
    "    verbose=True,\n",
    ")\n",
    "\n",
    "review = \"I love this product. It is the best product I have ever used.\"\n",
    "overall_chain.invoke(input={\"Review\": review})"
   ]
  },
  {
   "cell_type": "markdown",
   "metadata": {},
   "source": [
    "## Router Chain\n"
   ]
  },
  {
   "cell_type": "code",
   "execution_count": 22,
   "metadata": {},
   "outputs": [],
   "source": [
    "physics_template = \"\"\"You are a very smart physics professor. \\\n",
    "You are great at answering questions about physics in a concise\\\n",
    "and easy to understand manner. \\\n",
    "When you don't know the answer to a question you admit\\\n",
    "that you don't know.\n",
    "\n",
    "Here is a question:\n",
    "{input}\"\"\"\n",
    "\n",
    "\n",
    "math_template = \"\"\"You are a very good mathematician. \\\n",
    "You are great at answering math questions. \\\n",
    "You are so good because you are able to break down \\\n",
    "hard problems into their component parts, \n",
    "answer the component parts, and then put them together\\\n",
    "to answer the broader question.\n",
    "\n",
    "Here is a question:\n",
    "{input}\"\"\"\n",
    "\n",
    "history_template = \"\"\"You are a very good historian. \\\n",
    "You have an excellent knowledge of and understanding of people,\\\n",
    "events and contexts from a range of historical periods. \\\n",
    "You have the ability to think, reflect, debate, discuss and \\\n",
    "evaluate the past. You have a respect for historical evidence\\\n",
    "and the ability to make use of it to support your explanations \\\n",
    "and judgments.\n",
    "\n",
    "Here is a question:\n",
    "{input}\"\"\"\n",
    "\n",
    "\n",
    "computer_science_template = \"\"\" You are a successful computer scientist.\\\n",
    "You have a passion for creativity, collaboration,\\\n",
    "forward-thinking, confidence, strong problem-solving capabilities,\\\n",
    "understanding of theories and algorithms, and excellent communication \\\n",
    "skills. You are great at answering coding questions. \\\n",
    "You are so good because you know how to solve a problem by \\\n",
    "describing the solution in imperative steps \\\n",
    "that a machine can easily interpret and you know how to \\\n",
    "choose a solution that has a good balance between \\\n",
    "time complexity and space complexity. \n",
    "\n",
    "Here is a question:\n",
    "{input}\"\"\"\n",
    "\n",
    "prompt_infos = [\n",
    "    {\n",
    "        \"name\": \"physics\",\n",
    "        \"description\": \"Good for answering questions about physics\",\n",
    "        \"prompt_template\": physics_template,\n",
    "    },\n",
    "    {\n",
    "        \"name\": \"math\",\n",
    "        \"description\": \"Good for answering math questions\",\n",
    "        \"prompt_template\": math_template,\n",
    "    },\n",
    "    {\n",
    "        \"name\": \"History\",\n",
    "        \"description\": \"Good for answering history questions\",\n",
    "        \"prompt_template\": history_template,\n",
    "    },\n",
    "    {\n",
    "        \"name\": \"computer science\",\n",
    "        \"description\": \"Good for answering computer science questions\",\n",
    "        \"prompt_template\": computer_science_template,\n",
    "    },\n",
    "]"
   ]
  },
  {
   "cell_type": "code",
   "execution_count": 23,
   "metadata": {},
   "outputs": [
    {
     "data": {
      "text/plain": [
       "['physics: Good for answering questions about physics',\n",
       " 'math: Good for answering math questions',\n",
       " 'History: Good for answering history questions',\n",
       " 'computer science: Good for answering computer science questions']"
      ]
     },
     "execution_count": 23,
     "metadata": {},
     "output_type": "execute_result"
    }
   ],
   "source": [
    "from langchain.chains.router import MultiPromptChain\n",
    "from langchain.chains.router.llm_router import LLMRouterChain, RouterOutputParser\n",
    "from langchain.prompts import PromptTemplate\n",
    "\n",
    "llm = ChatOpenAI(temperature=0, model=llm_model)\n",
    "\n",
    "\n",
    "destination_chains = {}\n",
    "for p_info in prompt_infos:\n",
    "    name = p_info[\"name\"]\n",
    "    prompt_template = p_info[\"prompt_template\"]\n",
    "    prompt = ChatPromptTemplate.from_template(template=prompt_template)\n",
    "    chain = LLMChain(llm=llm, prompt=prompt)\n",
    "    destination_chains[name] = chain\n",
    "\n",
    "destinations = [f\"{p['name']}: {p['description']}\" for p in prompt_infos]\n",
    "destinations_str = \"\\n\".join(destinations)\n",
    "destinations"
   ]
  },
  {
   "cell_type": "code",
   "execution_count": 24,
   "metadata": {},
   "outputs": [],
   "source": [
    "default_prompt = ChatPromptTemplate.from_template(\"{input}\")\n",
    "default_chain = LLMChain(llm=llm, prompt=default_prompt)\n",
    "\n",
    "MULTI_PROMPT_ROUTER_TEMPLATE = \"\"\"Given a raw text input to a \\\n",
    "language model select the model prompt best suited for the input. \\\n",
    "You will be given the names of the available prompts and a \\\n",
    "description of what the prompt is best suited for. \\\n",
    "You may also revise the original input if you think that revising\\\n",
    "it will ultimately lead to a better response from the language model.\n",
    "\n",
    "<< FORMATTING >>\n",
    "Return a markdown code snippet with a JSON object formatted to look like:\n",
    "```json\n",
    "{{{{\n",
    "    \"destination\": string \\ name of the prompt to use or \"DEFAULT\"\n",
    "    \"next_inputs\": string \\ a potentially modified version of the original input\n",
    "}}}}\n",
    "```\n",
    "\n",
    "REMEMBER: \"destination\" MUST be one of the candidate prompt \\\n",
    "names specified below OR it can be \"DEFAULT\" if the input is not\\\n",
    "well suited for any of the candidate prompts.\n",
    "REMEMBER: \"next_inputs\" can just be the original input \\\n",
    "if you don't think any modifications are needed.\n",
    "\n",
    "<< CANDIDATE PROMPTS >>\n",
    "{destinations}\n",
    "\n",
    "<< INPUT >>\n",
    "{{input}}\n",
    "\n",
    "<< OUTPUT (remember to include the ```json)>>\"\"\"\n",
    "\n",
    "router_template = MULTI_PROMPT_ROUTER_TEMPLATE.format(destinations=destinations_str)\n",
    "router_prompt = PromptTemplate(\n",
    "    template=router_template,\n",
    "    input_variables=[\"input\"],\n",
    "    output_parser=RouterOutputParser(),\n",
    ")\n",
    "\n",
    "router_chain = LLMRouterChain.from_llm(llm, router_prompt)"
   ]
  },
  {
   "cell_type": "code",
   "execution_count": 25,
   "metadata": {},
   "outputs": [
    {
     "name": "stdout",
     "output_type": "stream",
     "text": [
      "\n",
      "\n",
      "\u001b[1m> Entering new MultiPromptChain chain...\u001b[0m\n",
      "physics: {'input': 'What is black body radiation?'}\n",
      "\u001b[1m> Finished chain.\u001b[0m\n"
     ]
    },
    {
     "data": {
      "text/plain": [
       "{'input': 'What is black body radiation?',\n",
       " 'text': \"Black body radiation refers to the electromagnetic radiation emitted by a perfect black body, which is an object that absorbs all radiation that falls on it and emits radiation at all wavelengths. The radiation emitted by a black body depends only on its temperature and follows a specific distribution known as Planck's law. This type of radiation is important in understanding the behavior of stars, as well as in the development of technologies such as incandescent light bulbs and infrared cameras.\"}"
      ]
     },
     "execution_count": 25,
     "metadata": {},
     "output_type": "execute_result"
    }
   ],
   "source": [
    "chain = MultiPromptChain(\n",
    "    router_chain=router_chain,\n",
    "    destination_chains=destination_chains,\n",
    "    default_chain=default_chain,\n",
    "    verbose=True,\n",
    ")\n",
    "\n",
    "chain.invoke(\"What is black body radiation?\")"
   ]
  },
  {
   "cell_type": "code",
   "execution_count": 28,
   "metadata": {},
   "outputs": [
    {
     "name": "stdout",
     "output_type": "stream",
     "text": [
      "\n",
      "\n",
      "\u001b[1m> Entering new MultiPromptChain chain...\u001b[0m\n",
      "math: {'input': \"If a company's starting customer base is 1000 people, how many people will it have in 5 years if it grows at a rate of 5% per month?\"}\n",
      "\u001b[1m> Finished chain.\u001b[0m\n"
     ]
    },
    {
     "data": {
      "text/plain": [
       "\"To solve this problem, we need to first figure out the monthly growth rate. We know that the company grows at a rate of 5% per month, so we can convert that to a decimal by dividing by 100: 5/100 = 0.05.\\n\\nNext, we need to calculate the monthly growth factor. This is the amount by which the company's customer base will increase each month. We can calculate this by adding 1 to the monthly growth rate: 1 + 0.05 = 1.05.\\n\\nNow we can use the monthly growth factor to calculate the company's customer base after 5 years. Since there are 12 months in a year, there will be 5 x 12 = 60 months in 5 years.\\n\\nTo calculate the final customer base, we can use the formula:\\n\\nFinal customer base = Starting customer base x (monthly growth factor)^number of months\\n\\nPlugging in the values we have:\\n\\nFinal customer base = 1000 x (1.05)^60\\n\\nUsing a calculator, we get:\\n\\nFinal customer base = 4,322.50 (rounded to the nearest person)\\n\\nTherefore, the company will have approximately 4,323 customers after 5 years if it grows at a rate of 5% per month.\""
      ]
     },
     "execution_count": 28,
     "metadata": {},
     "output_type": "execute_result"
    }
   ],
   "source": [
    "chain.invoke(\n",
    "    \"If a company's starting customer base is 1000 people, how many people will it have in 5 years if it grows at a rate of 5% per month?\"\n",
    ")"
   ]
  },
  {
   "cell_type": "code",
   "execution_count": 29,
   "metadata": {},
   "outputs": [
    {
     "name": "stdout",
     "output_type": "stream",
     "text": [
      "\n",
      "\n",
      "\u001b[1m> Entering new MultiPromptChain chain...\u001b[0m\n",
      "None: {'input': 'Why does every cell in our body contain DNA?'}\n",
      "\u001b[1m> Finished chain.\u001b[0m\n"
     ]
    },
    {
     "data": {
      "text/plain": [
       "{'input': 'Why does every cell in our body contain DNA?',\n",
       " 'text': 'Every cell in our body contains DNA because DNA carries the genetic information that determines the characteristics and functions of the cell. DNA contains the instructions for the synthesis of proteins, which are essential for the structure and function of cells. Additionally, DNA is responsible for the transmission of genetic information from one generation to the next. Therefore, every cell in our body needs DNA to carry out its specific functions and to maintain the integrity of the organism as a whole.'}"
      ]
     },
     "execution_count": 29,
     "metadata": {},
     "output_type": "execute_result"
    }
   ],
   "source": [
    "chain.invoke(\"Why does every cell in our body contain DNA?\")"
   ]
  }
 ],
 "metadata": {
  "kernelspec": {
   "display_name": "venv",
   "language": "python",
   "name": "python3"
  },
  "language_info": {
   "codemirror_mode": {
    "name": "ipython",
    "version": 3
   },
   "file_extension": ".py",
   "mimetype": "text/x-python",
   "name": "python",
   "nbconvert_exporter": "python",
   "pygments_lexer": "ipython3",
   "version": "3.12.0"
  }
 },
 "nbformat": 4,
 "nbformat_minor": 2
}
